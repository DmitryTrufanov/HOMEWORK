{
 "cells": [
  {
   "cell_type": "markdown",
   "metadata": {},
   "source": [
    "**Задание 1**. Дан список с визитами по городам и странам. \n",
    "Напишите код, который возвращает отфильтрованный список geo_logs, содержащий только визиты из России."
   ]
  },
  {
   "cell_type": "markdown",
   "metadata": {},
   "source": [
    "**Решение**"
   ]
  },
  {
   "cell_type": "code",
   "execution_count": 5,
   "metadata": {},
   "outputs": [
    {
     "name": "stdout",
     "output_type": "stream",
     "text": [
      "Введите название страны россия\n",
      "[{'visit1': ['Москва', 'Россия']}, {'visit3': ['Владимир', 'Россия']}, {'visit7': ['Тула', 'Россия']}, {'visit8': ['Тула', 'Россия']}, {'visit9': ['Курск', 'Россия']}, {'visit10': ['Архангельск', 'Россия']}, {'visit11': ['Владивосток', 'Россия']}]\n"
     ]
    }
   ],
   "source": [
    "geo_logs = [\n",
    "    {'visit1': ['Москва', 'Россия']},\n",
    "    {'visit2': ['Дели', 'Индия']},\n",
    "    {'visit3': ['Владимир', 'Россия']},\n",
    "    {'visit4': ['Лиссабон', 'Португалия']},\n",
    "    {'visit5': ['Париж', 'Франция']},\n",
    "    {'visit6': ['Лиссабон', 'Португалия']},\n",
    "    {'visit7': ['Тула', 'Россия']},\n",
    "    {'visit8': ['Тула', 'Россия']},\n",
    "    {'visit9': ['Курск', 'Россия']},\n",
    "    {'visit10': ['Архангельск', 'Россия']},\n",
    "    {'visit11': ['Владивосток', 'Россия']}\n",
    "]\n",
    "\n",
    "# Модифицировал исходные данные для проверки работы кода.\n",
    "\n",
    "enter = input(\"Введите название страны \")\n",
    "\n",
    "geo_logs_russia = []\n",
    "\n",
    "for visits in geo_logs:\n",
    "    for country in visits.values():\n",
    "        if enter.capitalize() in country:\n",
    "            geo_logs_russia.append(visits)\n",
    "            \n",
    "print(geo_logs_russia)            "
   ]
  },
  {
   "cell_type": "markdown",
   "metadata": {},
   "source": [
    "**Задание 2**. Выведите на экран все уникальные гео-ID из значений словаря ids. Т. е. список вида [213, 15, 54, 119, 98, 35]"
   ]
  },
  {
   "cell_type": "markdown",
   "metadata": {},
   "source": [
    "**Решение**"
   ]
  },
  {
   "cell_type": "code",
   "execution_count": 6,
   "metadata": {},
   "outputs": [
    {
     "name": "stdout",
     "output_type": "stream",
     "text": [
      "[98, 35, 999, 777, 15, 213, 54, 119]\n"
     ]
    }
   ],
   "source": [
    "ids = {'user1': [213, 213, 213, 15, 213], \n",
    "       'user2': [54, 54, 119, 119, 119], \n",
    "       'user3': [213, 98, 98, 35],\n",
    "       'user4': [999, 98, 777, 15]}\n",
    "\n",
    "# Модифицировал исходные данные для проверки работы кода.\n",
    "\n",
    "unique_id = []\n",
    "\n",
    "for numbers in ids.values():\n",
    "    for number in numbers:\n",
    "        unique_id.append(number)\n",
    "        \n",
    "unique_id = set(unique_id)\n",
    "\n",
    "unique_id = list(unique_id)\n",
    "\n",
    "print(unique_id)"
   ]
  },
  {
   "cell_type": "markdown",
   "metadata": {},
   "source": [
    "**Задание 3**. Дан список поисковых запросов. Получить распределение количества слов в них. \n",
    "Т. е. поисковых запросов из одного - слова 5%, из двух - 7%, из трех - 3% и т.д."
   ]
  },
  {
   "cell_type": "markdown",
   "metadata": {},
   "source": [
    "**Решение**"
   ]
  },
  {
   "cell_type": "code",
   "execution_count": 7,
   "metadata": {},
   "outputs": [
    {
     "name": "stdout",
     "output_type": "stream",
     "text": [
      "Поисковых запросов из 2 слов: 30 %.\n",
      "Поисковых запросов из 3 слов: 40 %.\n",
      "Поисковых запросов из 4 слов: 10 %.\n",
      "Поисковых запросов из 5 слов: 10 %.\n",
      "Поисковых запросов из 6 слов: 10 %.\n"
     ]
    }
   ],
   "source": [
    "queries = [\n",
    "    'смотреть сериалы онлайн',\n",
    "    'новости спорта',\n",
    "    'афиша кино',\n",
    "    'курс доллара',\n",
    "    'сериалы этим летом',\n",
    "    'курс по питону',\n",
    "    'сериалы про спорт',\n",
    "    'q q q q',\n",
    "    'q q q q q q',\n",
    "    'q q q q q'\n",
    "]\n",
    "\n",
    "# Модифицировал исходные данные для проверки работы кода.\n",
    "\n",
    "new_queries = []\n",
    "\n",
    "for words in queries:\n",
    "    count_words = len(words.split(' '))\n",
    "    new_queries.append(count_words)\n",
    "\n",
    "for number in set(new_queries):\n",
    "    print(f'Поисковых запросов из {number} слов: {round(new_queries.count(number) / len(new_queries) * 100)} %.')"
   ]
  },
  {
   "cell_type": "markdown",
   "metadata": {},
   "source": [
    "**Задание 4**. Дана статистика рекламных каналов по объемам продаж. Напишите скрипт, который возвращает название канала с максимальным объемом.\n",
    "Т. е. в данном примере скрипт должен возвращать 'yandex'."
   ]
  },
  {
   "cell_type": "markdown",
   "metadata": {},
   "source": [
    "**Решение**"
   ]
  },
  {
   "cell_type": "code",
   "execution_count": 8,
   "metadata": {},
   "outputs": [
    {
     "name": "stdout",
     "output_type": "stream",
     "text": [
      "Канал с максимальным объемом продаж: telegram\n"
     ]
    }
   ],
   "source": [
    "stats = {'facebook': 55, 'yandex': 120, 'vk': 115, 'google': 99, 'email': 42, 'ok': 98, 'telegram': 300}\n",
    "\n",
    "# Модифицировал исходные данные для проверки работы кода.\n",
    "\n",
    "new_stats = []\n",
    "new_stats_2 = []\n",
    "\n",
    "for company, sales in stats.items():\n",
    "    new_stats.append(company)\n",
    "    new_stats_2.append(sales)\n",
    "    union_stats = list(zip(new_stats, new_stats_2))  \n",
    "\n",
    "max_sales = max(new_stats_2)\n",
    "    \n",
    "for x in union_stats:\n",
    "    if x[1] == max_sales:\n",
    "        print(f'Канал с максимальным объемом продаж: {x[0]}')"
   ]
  },
  {
   "cell_type": "markdown",
   "metadata": {},
   "source": [
    "**Задание 5**. Напишите код для преобразования произвольного списка вида ['2018-01-01', 'yandex', 'cpc', 100] (он может быть любой длины) в словарь {'2018-01-01': {'yandex': {'cpc': 100}}}"
   ]
  },
  {
   "cell_type": "markdown",
   "metadata": {},
   "source": [
    "**Решение**"
   ]
  },
  {
   "cell_type": "code",
   "execution_count": 9,
   "metadata": {},
   "outputs": [
    {
     "name": "stdout",
     "output_type": "stream",
     "text": [
      "{'2018-01-01': {'yandex': {'cpc': {100: {'telegram': 300}}}}}\n"
     ]
    }
   ],
   "source": [
    "new_list = [\n",
    "    '2018-01-01',\n",
    "    'yandex',\n",
    "    'cpc',\n",
    "    100,\n",
    "    'telegram',\n",
    "    300    \n",
    "]\n",
    "\n",
    "# Модифицировал исходные данные для проверки работы кода.\n",
    "\n",
    "dictionary = new_list[-1]\n",
    "\n",
    "for el in new_list[-2::-1]:\n",
    "    dictionary = {el: dictionary}  \n",
    "    \n",
    "print(dictionary)"
   ]
  }
 ],
 "metadata": {
  "kernelspec": {
   "display_name": "Python 3",
   "language": "python",
   "name": "python3"
  },
  "language_info": {
   "codemirror_mode": {
    "name": "ipython",
    "version": 3
   },
   "file_extension": ".py",
   "mimetype": "text/x-python",
   "name": "python",
   "nbconvert_exporter": "python",
   "pygments_lexer": "ipython3",
   "version": "3.7.6"
  }
 },
 "nbformat": 4,
 "nbformat_minor": 2
}
