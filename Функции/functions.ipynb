{
 "cells": [
  {
   "cell_type": "markdown",
   "metadata": {},
   "source": [
    "Вы работаете секретарем и вам постоянно приходят различные документы. Вы должны быть очень внимательны, чтобы не потерять ни один документ. Каталог документов хранится в следующем виде:"
   ]
  },
  {
   "cell_type": "code",
   "execution_count": 1,
   "metadata": {},
   "outputs": [],
   "source": [
    "documents = [\n",
    "    {'type': 'passport', 'number': '2207 876234', 'name': 'Василий Гупкин'},\n",
    "    {'type': 'invoice', 'number': '11-2', 'name': 'Геннадий Покемонов'},\n",
    "    {'type': 'insurance', 'number': '10006', 'name': 'Аристарх Павлов'}\n",
    "]"
   ]
  },
  {
   "cell_type": "markdown",
   "metadata": {},
   "source": [
    "Перечень полок, на которых находятся документы хранится в следующем виде:"
   ]
  },
  {
   "cell_type": "code",
   "execution_count": 1,
   "metadata": {},
   "outputs": [],
   "source": [
    "directories = {\n",
    "    '1': ['2207 876234', '11-2'],\n",
    "    '2': ['10006'],\n",
    "    '3': []\n",
    "}"
   ]
  },
  {
   "cell_type": "markdown",
   "metadata": {},
   "source": [
    "Необходимо реализовать пользовательские команды (внимание! это не название функций, которые должны быть выразительными, а команды, которые вводит пользователь, чтобы получить необходимый результат):\n",
    "  \n",
    "- p – people – команда, которая спросит номер документа и выведет имя человека, которому он принадлежит;  \n",
    "- s – shelf – команда, которая спросит номер документа и выведет номер полки, на которой он находится  \n",
    "*Правильно обработайте ситуации, когда пользователь будет вводить несуществующий документ*.\n",
    "- l – list – команда, которая выведет список всех документов в формате   \n",
    "**passport \"2207 876234\" \"Василий Гупкин\"**  \n",
    "- as – add shelf – команда, которая спросит номер новой полки и добавит ее в перечень. *Предусмотрите случай, когда пользователь добавляет полку, которая уже существует*.\n",
    "- d – delete – команда, которая спросит номер документа и удалит его из каталога и из перечня полок. *Предусмотрите сценарий, когда пользователь вводит несуществующий документ*;  \n",
    "- m – move – команда, которая спросит номер документа и целевую полку и переместит его с текущей полки на целевую. *Корректно обработайте кейсы, когда пользователь пытается переместить несуществующий документ или переместить документ на несуществующую полку*;  \n",
    "- a – add – команда, которая добавит новый документ в каталог и в перечень полок, спросив его номер, тип, имя владельца и номер полки, на котором он будет храниться. *Корректно обработайте ситуацию, когда пользователь будет пытаться добавить документ на несуществующую полку*."
   ]
  },
  {
   "cell_type": "markdown",
   "metadata": {},
   "source": [
    "**Функция 1** "
   ]
  },
  {
   "cell_type": "code",
   "execution_count": 3,
   "metadata": {},
   "outputs": [],
   "source": [
    "def people():\n",
    "    enter_number_doc = input('Введите номер документа ')\n",
    "    for dic in documents:\n",
    "        if enter_number_doc == dic['number']:\n",
    "            print(f'Имя человека, которому принадлежит документ: {dic[\"name\"]}')\n",
    "            return\n",
    "    print('Документ отсутствуют')"
   ]
  },
  {
   "cell_type": "markdown",
   "metadata": {},
   "source": [
    "**Функция 2**"
   ]
  },
  {
   "cell_type": "code",
   "execution_count": 4,
   "metadata": {},
   "outputs": [],
   "source": [
    "def shelf():\n",
    "    enter_number_doc = input('Введите номер документа ')\n",
    "    for shelf, number in directories.items():\n",
    "        if enter_number_doc in number:\n",
    "            print(f'номер полки, накоторой находится документ: {shelf}')\n",
    "            return\n",
    "    print('Документ отсутствуют')"
   ]
  },
  {
   "cell_type": "markdown",
   "metadata": {},
   "source": [
    "**Функция 3**"
   ]
  },
  {
   "cell_type": "code",
   "execution_count": 6,
   "metadata": {},
   "outputs": [],
   "source": [
    "def list_():\n",
    "    for dic in documents:\n",
    "        print(f'{dic[\"type\"]} \"{dic[\"number\"]}\" \"{dic[\"name\"]}\"')"
   ]
  },
  {
   "cell_type": "markdown",
   "metadata": {},
   "source": [
    "**Функция 4**"
   ]
  },
  {
   "cell_type": "code",
   "execution_count": 8,
   "metadata": {},
   "outputs": [],
   "source": [
    "def add_shelf():\n",
    "    shelf = input('Введите номер полки: ')\n",
    "    if shelf in directories:\n",
    "        print('Полка под таким номером уже существует!')\n",
    "    else:\n",
    "        new_shelf = input('Повторите ввод что бы добавить новую полку с указанным номером: ')\n",
    "        directories.setdefault(new_shelf, [])"
   ]
  },
  {
   "cell_type": "markdown",
   "metadata": {},
   "source": [
    "**Функция 5**"
   ]
  },
  {
   "cell_type": "code",
   "execution_count": 9,
   "metadata": {},
   "outputs": [],
   "source": [
    "def delete():\n",
    "    enter_number_doc = input('Введите номер документа: ')\n",
    "    for i, dic in enumerate(documents):\n",
    "        if enter_number_doc == dic['number']:\n",
    "            del(documents[i])\n",
    "    for info in directories.values():\n",
    "        if enter_number_doc in info:\n",
    "            info.remove(enter_number_doc)\n",
    "            return\n",
    "    print(f'Документ с номером {enter_number_doc} отсутствует в базе.')"
   ]
  },
  {
   "cell_type": "markdown",
   "metadata": {},
   "source": [
    "**Функция 6**"
   ]
  },
  {
   "cell_type": "code",
   "execution_count": 10,
   "metadata": {},
   "outputs": [],
   "source": [
    "def move():\n",
    "    enter_number_doc = input('Введите номер документа: ')\n",
    "    shelf = input('Введите номер полки: ')\n",
    "    delete_doc = []\n",
    "    shelf_list = list(directories)\n",
    "    for number_shelf, info in directories.items():\n",
    "        if (enter_number_doc in info) and (shelf in shelf_list):\n",
    "            info.remove(enter_number_doc)\n",
    "            delete_doc.append(enter_number_doc)\n",
    "    for number_shelf, info in directories.items():\n",
    "        if (enter_number_doc in delete_doc) and (shelf == number_shelf):\n",
    "            info.append(enter_number_doc)\n",
    "            return\n",
    "    print(f'Документ с номером {enter_number_doc} отсутствует в базе или полка под номером {shelf} не существует.')    "
   ]
  },
  {
   "cell_type": "markdown",
   "metadata": {},
   "source": [
    "**Функция 7**"
   ]
  },
  {
   "cell_type": "code",
   "execution_count": 11,
   "metadata": {},
   "outputs": [],
   "source": [
    "def add():\n",
    "    enter_number_type = input('Введите тип документа: ')\n",
    "    enter_number_doc = input('Введите номер документа: ')\n",
    "    enter_owners_name = input('Введите имя владельца документа: ')\n",
    "    shelf = input('Введите номер полки для хранения документа: ')\n",
    "    new_doc = {'type': enter_number_type, 'number': enter_number_doc, 'name': enter_owners_name.title()}\n",
    "    shelf_list = list(directories)\n",
    "    for details in documents:\n",
    "        if (new_doc not in documents) and (shelf in shelf_list):\n",
    "            documents.append(new_doc)\n",
    "    for shelf_number, info in directories.items():\n",
    "        if (new_doc['number'] not in info) and (shelf == shelf_number):\n",
    "            info.append(enter_number_doc)\n",
    "            return\n",
    "    print(f'Дааный документ уже есть в базе или вы выбрали несуществующую полку!')    "
   ]
  },
  {
   "cell_type": "markdown",
   "metadata": {},
   "source": [
    "**Пользовательский интерфейс**"
   ]
  },
  {
   "cell_type": "code",
   "execution_count": 12,
   "metadata": {},
   "outputs": [],
   "source": [
    "def main():\n",
    "    while True:\n",
    "        user_input = input('Введите комманду: ')\n",
    "        if user_input == 'p':\n",
    "            people()\n",
    "        elif user_input == 's':\n",
    "            shelf()\n",
    "        elif user_input == 'l':\n",
    "            list_()\n",
    "        elif user_input == 'as':\n",
    "            add_shelf()    \n",
    "        elif user_input == 'd':\n",
    "            delete()   \n",
    "        elif user_input == 'm':\n",
    "            move()\n",
    "        elif user_input == 'a':\n",
    "            add()\n",
    "        elif user_input == 'end':\n",
    "            break"
   ]
  },
  {
   "cell_type": "code",
   "execution_count": 13,
   "metadata": {},
   "outputs": [
    {
     "name": "stdout",
     "output_type": "stream",
     "text": [
      "Введите комманду: a\n",
      "Введите тип документа: invoice\n",
      "Введите номер документа: 777\n",
      "Введите имя владельца документа: вася пупкин\n",
      "Введите номер полки для хранения документа: 3\n",
      "Введите комманду: l\n",
      "passport \"2207 876234\" \"Василий Гупкин\"\n",
      "invoice \"11-2\" \"Геннадий Покемонов\"\n",
      "insurance \"10006\" \"Аристарх Павлов\"\n",
      "invoice \"777\" \"Вася Пупкин\"\n",
      "Введите комманду: as\n",
      "Введите номер полки: 4\n",
      "Повторите ввод что бы добавить новую полку с указанным номером: 4\n",
      "Введите комманду: m\n",
      "Введите номер документа: 777\n",
      "Введите номер полки: 4\n",
      "Введите комманду: l\n",
      "passport \"2207 876234\" \"Василий Гупкин\"\n",
      "invoice \"11-2\" \"Геннадий Покемонов\"\n",
      "insurance \"10006\" \"Аристарх Павлов\"\n",
      "invoice \"777\" \"Вася Пупкин\"\n",
      "Введите комманду: s\n",
      "Введите номер документа 777\n",
      "номер полки, накоторой находится документ: 4\n",
      "Введите комманду: as\n",
      "Введите номер полки: 5\n",
      "Повторите ввод что бы добавить новую полку с указанным номером: 5\n",
      "Введите комманду: m\n",
      "Введите номер документа: 777\n",
      "Введите номер полки: 5\n",
      "Введите комманду: s\n",
      "Введите номер документа 777\n",
      "номер полки, накоторой находится документ: 5\n",
      "Введите комманду: p\n",
      "Введите номер документа 555\n",
      "Документ отсутствуют\n",
      "Введите комманду: p\n",
      "Введите номер документа 777\n",
      "Имя человека, которому принадлежит документ: Вася Пупкин\n",
      "Введите комманду: d\n",
      "Введите номер документа: 777\n",
      "Введите комманду: l\n",
      "passport \"2207 876234\" \"Василий Гупкин\"\n",
      "invoice \"11-2\" \"Геннадий Покемонов\"\n",
      "insurance \"10006\" \"Аристарх Павлов\"\n",
      "Введите комманду: end\n"
     ]
    }
   ],
   "source": [
    "main()"
   ]
  }
 ],
 "metadata": {
  "kernelspec": {
   "display_name": "Python 3",
   "language": "python",
   "name": "python3"
  },
  "language_info": {
   "codemirror_mode": {
    "name": "ipython",
    "version": 3
   },
   "file_extension": ".py",
   "mimetype": "text/x-python",
   "name": "python",
   "nbconvert_exporter": "python",
   "pygments_lexer": "ipython3",
   "version": "3.7.6"
  }
 },
 "nbformat": 4,
 "nbformat_minor": 2
}
