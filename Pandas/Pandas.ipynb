{
 "cells": [
  {
   "cell_type": "markdown",
   "metadata": {},
   "source": [
    "**Задание 1**\n",
    "Скачайте с сайта https://grouplens.org/datasets/movielens/ датасет любого размера. Определите какому фильму было выставлено больше всего оценок 5.0.\n"
   ]
  },
  {
   "cell_type": "code",
   "execution_count": 3,
   "metadata": {},
   "outputs": [],
   "source": [
    "import pandas as pd"
   ]
  },
  {
   "cell_type": "code",
   "execution_count": 4,
   "metadata": {},
   "outputs": [
    {
     "data": {
      "text/plain": [
       "Shawshank Redemption, The (1994)             153\n",
       "Pulp Fiction (1994)                          123\n",
       "Forrest Gump (1994)                          116\n",
       "Matrix, The (1999)                           109\n",
       "Star Wars: Episode IV - A New Hope (1977)    104\n",
       "Name: title, dtype: int64"
      ]
     },
     "execution_count": 4,
     "metadata": {},
     "output_type": "execute_result"
    }
   ],
   "source": [
    "ratings = pd.read_csv('ratings.csv')\n",
    "movies = pd.read_csv('movies.csv')\n",
    "rating_5 = ratings[ratings['rating'] == 5.0]\n",
    "joined = rating_5.merge(movies, on='movieId', how='left')\n",
    "joined.title.value_counts().head(5)"
   ]
  },
  {
   "cell_type": "markdown",
   "metadata": {},
   "source": [
    "**Вывод**: Больше всего максимальных оценок было выставлено фильму \"Побег из Шоушенка\""
   ]
  },
  {
   "cell_type": "markdown",
   "metadata": {},
   "source": [
    "\n",
    "**Задание 2**\n",
    "По данным файла power.csv посчитайте суммарное потребление стран Прибалтики (Латвия, Литва и Эстония) категорий 4, 12 и 21 за период с 2005 по 2010 года. Не учитывайте в расчетах отрицательные значения quantity.\n"
   ]
  },
  {
   "cell_type": "code",
   "execution_count": 5,
   "metadata": {},
   "outputs": [
    {
     "name": "stdout",
     "output_type": "stream",
     "text": [
      "Сумарное потребление стран Прибалтики составило 240580.0\n"
     ]
    }
   ],
   "source": [
    "countries = pd.read_csv('power.csv')\n",
    "filtered_countries = countries[(countries['country'].isin(['Estonia', 'Latvia', 'Lithuania'])) & (countries['category'].isin([4, 12, 21])) & ((countries['year'] > 2004) & (countries['year'] < 2011)) & (countries['quantity'] >= 0)]\n",
    "total_consumption = sum(filtered_countries.groupby('country')['quantity'].sum())\n",
    "print(f'Сумарное потребление стран Прибалтики составило {total_consumption}')"
   ]
  },
  {
   "cell_type": "markdown",
   "metadata": {},
   "source": [
    "**Задание 3**\n",
    "Выберите страницу любого сайта с табличными данными. Импортируйте таблицы в pandas dataframe.\n",
    "Примеры страниц (необязательно брать именно эти): \n",
    "https://fortrader.org/quotes\n",
    "https://www.finanz.ru/valyuty/v-realnom-vremeni\n"
   ]
  },
  {
   "cell_type": "code",
   "execution_count": 6,
   "metadata": {},
   "outputs": [],
   "source": [
    "quotes= pd.read_html('https://www.finanz.ru/valyuty/v-realnom-vremeni', encoding='utf-8')"
   ]
  },
  {
   "cell_type": "code",
   "execution_count": 7,
   "metadata": {},
   "outputs": [
    {
     "data": {
      "text/plain": [
       "[     0       1      2        3      4      5        6      7      8        9   \\\n",
       " 0  ММВБ   2 762   0,0%   Nasdaq  9 757  -2,6%  Биткойн  8 981  -0,4%  USD/RUB   \n",
       " 1   РТС   1 247  -0,8%   S&P500  3 009  -2,4%    Нефть    407  -1,8%  EUR/RUB   \n",
       " 2   Dow  25 016  -2,8%  FTSE100  6 159   0,2%   Золото  1 771   0,0%  EUR/USD   \n",
       " \n",
       "        10    11  \n",
       " 0  697796  1,0%  \n",
       " 1  782850  1,0%  \n",
       " 2   11220  0,0%  ,\n",
       "     Unnamed: 0              Рубль  Предложение  Спрос  Предыдущее закрытие  \\\n",
       " 0          NaN            GBP/RUB       860871      -               861080   \n",
       " 1          NaN            EUR/RUB       782850      -               774940   \n",
       " 2          NaN            USD/RUB       697796      -               690745   \n",
       " 3          NaN            JPY/RUB        06511      -                06510   \n",
       " 4          NaN            CNY/RUB        98582      -                98581   \n",
       " 5          NaN            CHF/RUB       736122      -               736150   \n",
       " 6          NaN               Евро  Предложение  Спрос  Предыдущее закрытие   \n",
       " 7          NaN            EUR/USD        11220      -                11220   \n",
       " 8          NaN            EUR/GBP        09091      -                09032   \n",
       " 9          NaN            EUR/JPY      1202650      -              1203000   \n",
       " 10         NaN            EUR/CHF        10637      -                10640   \n",
       " 11         NaN         Доллар США  Предложение  Спрос  Предыдущее закрытие   \n",
       " 12         NaN            USD/EUR        08913      -                08913   \n",
       " 13         NaN            USD/GBP        08106      -                08104   \n",
       " 14         NaN            USD/JPY      1071800      -              1071850   \n",
       " 15         NaN            USD/CHF        09479      -                09482   \n",
       " 16         NaN      Японская иена  Предложение  Спрос  Предыдущее закрытие   \n",
       " 17         NaN    JPY/EUR (100:1)        08300      -                08300   \n",
       " 18         NaN            JPY/GBP        00076      -                00076   \n",
       " 19         NaN            JPY/USD        00093      -                00093   \n",
       " 20         NaN    JPY/CHF (100:1)        08800      -                08800   \n",
       " 21         NaN    Фунт стерлингов  Предложение  Спрос  Предыдущее закрытие   \n",
       " 22         NaN            GBP/USD        12337      -                12340   \n",
       " 23         NaN            GBP/JPY      1322280      -              1322651   \n",
       " 24         NaN            GBP/EUR        10999      -                11071   \n",
       " 25         NaN            GBP/CHF        11697      -                11781   \n",
       " 26         NaN  Швейцарский франк  Предложение  Спрос  Предыдущее закрытие   \n",
       " 27         NaN            GBP/CHF        11697      -                11781   \n",
       " 28         NaN            EUR/CHF        10637      -                10640   \n",
       " 29         NaN    JPY/CHF (100:1)        08800      -                08800   \n",
       " 30         NaN            USD/CHF        09479      -                09482   \n",
       " 31         NaN  Украинская гривна  Предложение  Спрос  Предыдущее закрытие   \n",
       " 32         NaN            EUR/UAH       299221      -               299843   \n",
       " 33         NaN            USD/UAH       266685      -               267252   \n",
       " 34         NaN            CHF/UAH       281333      -               281941   \n",
       " 35         NaN            GBP/UAH       329010      -               329789   \n",
       " \n",
       "           %  Абсолютное значение       Время  \n",
       " 0   -0,02 %               -00209  27.06.2020  \n",
       " 1    1,02 %                07910  27.06.2020  \n",
       " 2    1,02 %                07051  27.06.2020  \n",
       " 3    0,00 %                00000  27.06.2020  \n",
       " 4    0,00 %                00001  27.06.2020  \n",
       " 5    0,00 %               -00027  27.06.2020  \n",
       " 6         %  Абсолютное значение       Время  \n",
       " 7    0,00 %                00001  27.06.2020  \n",
       " 8    0,65 %                00059  27.06.2020  \n",
       " 9   -0,03 %               -00350  27.06.2020  \n",
       " 10  -0,03 %               -00003  27.06.2020  \n",
       " 11        %  Абсолютное значение       Время  \n",
       " 12   0,00 %                00000  27.06.2020  \n",
       " 13   0,02 %                00002  27.06.2020  \n",
       " 14   0,00 %               -00050  27.06.2020  \n",
       " 15  -0,03 %               -00003  27.06.2020  \n",
       " 16        %  Абсолютное значение       Время  \n",
       " 17   0,00 %                00000  27.06.2020  \n",
       " 18   0,03 %                00000  27.06.2020  \n",
       " 19   0,00 %                00000  27.06.2020  \n",
       " 20  -0,03 %                00000  27.06.2020  \n",
       " 21        %  Абсолютное значение       Время  \n",
       " 22  -0,02 %               -00003  27.06.2020  \n",
       " 23  -0,03 %               -00371  27.06.2020  \n",
       " 24  -0,65 %               -00072  27.06.2020  \n",
       " 25  -0,71 %               -00084  27.06.2020  \n",
       " 26        %  Абсолютное значение       Время  \n",
       " 27  -0,71 %               -00084  27.06.2020  \n",
       " 28  -0,03 %               -00003  27.06.2020  \n",
       " 29  -0,03 %                00000  27.06.2020  \n",
       " 30  -0,03 %               -00003  27.06.2020  \n",
       " 31        %  Абсолютное значение       Время  \n",
       " 32  -0,21 %               -00622  27.06.2020  \n",
       " 33  -0,21 %               -00567  27.06.2020  \n",
       " 34  -0,22 %               -00608  27.06.2020  \n",
       " 35  -0,24 %               -00779  27.06.2020  ,\n",
       "                                                    0  \\\n",
       " 0                                      Имя и фамилия   \n",
       " 1                                            Телефон   \n",
       " 2                                                NaN   \n",
       " 3  Я даю согласие на обработку своих персональных...   \n",
       " \n",
       "                                                    1  \\\n",
       " 0                                              Город   \n",
       " 1                                              Email   \n",
       " 2                                                NaN   \n",
       " 3  Я даю согласие на обработку своих персональных...   \n",
       " \n",
       "                                                    2  \\\n",
       " 0                                                NaN   \n",
       " 1                                                NaN   \n",
       " 2  Спасибо! Ваша заявка отправлена Финансовый кон...   \n",
       " 3                                                NaN   \n",
       " \n",
       "                                                    3  \\\n",
       " 0                                                NaN   \n",
       " 1                                                NaN   \n",
       " 2  Спасибо! Ваша заявка отправлена Финансовый кон...   \n",
       " 3                                                NaN   \n",
       " \n",
       "                                                    4  \\\n",
       " 0                                                NaN   \n",
       " 1                                                NaN   \n",
       " 2  ошибка: не удалось создать заявку в журнале за...   \n",
       " 3                                                NaN   \n",
       " \n",
       "                                                    5                       6  \\\n",
       " 0                                                NaN                     NaN   \n",
       " 1                                                NaN                     NaN   \n",
       " 2  ошибка: не удалось создать заявку в журнале за...  ошибка: не POST-запрос   \n",
       " 3                                                NaN                     NaN   \n",
       " \n",
       "                         7                                                  8  \\\n",
       " 0                     NaN                                                NaN   \n",
       " 1                     NaN                                                NaN   \n",
       " 2  ошибка: не POST-запрос  Просим Вас согласиться на передачу и обработку...   \n",
       " 3                     NaN                                                NaN   \n",
       " \n",
       "                                                    9  \n",
       " 0                                                NaN  \n",
       " 1                                                NaN  \n",
       " 2  Просим Вас согласиться на передачу и обработку...  \n",
       " 3                                                NaN  ]"
      ]
     },
     "execution_count": 7,
     "metadata": {},
     "output_type": "execute_result"
    }
   ],
   "source": [
    "quotes"
   ]
  },
  {
   "cell_type": "markdown",
   "metadata": {},
   "source": [
    "**Последнее задание из лекции** Используем transactions.csv.\n",
    "\n",
    "Для какой транзакции (столбец ID) были наибольшие расходы (столбец Cost) в категории \"_8\" (столбец Product)? "
   ]
  },
  {
   "cell_type": "code",
   "execution_count": 8,
   "metadata": {},
   "outputs": [
    {
     "data": {
      "text/html": [
       "<div>\n",
       "<style scoped>\n",
       "    .dataframe tbody tr th:only-of-type {\n",
       "        vertical-align: middle;\n",
       "    }\n",
       "\n",
       "    .dataframe tbody tr th {\n",
       "        vertical-align: top;\n",
       "    }\n",
       "\n",
       "    .dataframe thead th {\n",
       "        text-align: right;\n",
       "    }\n",
       "</style>\n",
       "<table border=\"1\" class=\"dataframe\">\n",
       "  <thead>\n",
       "    <tr style=\"text-align: right;\">\n",
       "      <th></th>\n",
       "      <th>Year</th>\n",
       "      <th>Month</th>\n",
       "      <th>ID</th>\n",
       "      <th>Product</th>\n",
       "      <th>Amount</th>\n",
       "      <th>Price</th>\n",
       "      <th>Total</th>\n",
       "      <th>Cost</th>\n",
       "    </tr>\n",
       "  </thead>\n",
       "  <tbody>\n",
       "    <tr>\n",
       "      <th>54</th>\n",
       "      <td>2017</td>\n",
       "      <td>12</td>\n",
       "      <td>t055</td>\n",
       "      <td>_8</td>\n",
       "      <td>2</td>\n",
       "      <td>3760</td>\n",
       "      <td>7520</td>\n",
       "      <td>2400</td>\n",
       "    </tr>\n",
       "  </tbody>\n",
       "</table>\n",
       "</div>"
      ],
      "text/plain": [
       "    Year  Month    ID Product  Amount  Price  Total  Cost\n",
       "54  2017     12  t055      _8       2   3760   7520  2400"
      ]
     },
     "execution_count": 8,
     "metadata": {},
     "output_type": "execute_result"
    }
   ],
   "source": [
    "df = pd.read_csv('transactions.csv')\n",
    "df_8 = df[(df['Product'] == '_8')]\n",
    "df_8.sort_values('Cost', ascending=False).head(1)"
   ]
  }
 ],
 "metadata": {
  "kernelspec": {
   "display_name": "Python 3",
   "language": "python",
   "name": "python3"
  },
  "language_info": {
   "codemirror_mode": {
    "name": "ipython",
    "version": 3
   },
   "file_extension": ".py",
   "mimetype": "text/x-python",
   "name": "python",
   "nbconvert_exporter": "python",
   "pygments_lexer": "ipython3",
   "version": "3.7.6"
  }
 },
 "nbformat": 4,
 "nbformat_minor": 4
}
