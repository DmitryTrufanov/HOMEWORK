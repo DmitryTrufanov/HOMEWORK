{
 "cells": [
  {
   "cell_type": "markdown",
   "metadata": {},
   "source": [
    "**Задание 1**\n",
    "Скачайте с сайта https://grouplens.org/datasets/movielens/ датасет любого размера. Определите какому фильму было выставлено больше всего оценок 5.0.\n"
   ]
  },
  {
   "cell_type": "code",
   "execution_count": 1,
   "metadata": {},
   "outputs": [],
   "source": [
    "import pandas as pd"
   ]
  },
  {
   "cell_type": "code",
   "execution_count": 36,
   "metadata": {},
   "outputs": [
    {
     "data": {
      "text/plain": [
       "Shawshank Redemption, The (1994)             153\n",
       "Pulp Fiction (1994)                          123\n",
       "Forrest Gump (1994)                          116\n",
       "Matrix, The (1999)                           109\n",
       "Star Wars: Episode IV - A New Hope (1977)    104\n",
       "Name: title, dtype: int64"
      ]
     },
     "execution_count": 36,
     "metadata": {},
     "output_type": "execute_result"
    }
   ],
   "source": [
    "ratings = pd.read_csv('ratings.csv')\n",
    "movies = pd.read_csv('movies.csv')\n",
    "joined = ratings.merge(movies, on='movieId', how='left')\n",
    "raitings_5 = joined[joined.rating == 5.0]\n",
    "raitings_5.title.value_counts().head(5)"
   ]
  },
  {
   "cell_type": "markdown",
   "metadata": {},
   "source": [
    "**Вывод**: Больше всего максимальных оценок было выставлено фильму \"Побег из Шоушенка\""
   ]
  },
  {
   "cell_type": "markdown",
   "metadata": {},
   "source": [
    "\n",
    "**Задание 2**\n",
    "По данным файла power.csv посчитайте суммарное потребление стран Прибалтики (Латвия, Литва и Эстония) категорий 4, 12 и 21 за период с 2005 по 2010 года. Не учитывайте в расчетах отрицательные значения quantity.\n"
   ]
  },
  {
   "cell_type": "code",
   "execution_count": 120,
   "metadata": {},
   "outputs": [
    {
     "data": {
      "text/plain": [
       "country\n",
       "Estonia       63440.0\n",
       "Latvia        54844.0\n",
       "Lithuania    122296.0\n",
       "Name: quantity, dtype: float64"
      ]
     },
     "execution_count": 120,
     "metadata": {},
     "output_type": "execute_result"
    }
   ],
   "source": [
    "countries = pd.read_csv('power.csv')\n",
    "filtered_countries = countries[((countries['country']=='Estonia') | (countries['country']=='Latvia') | (countries['country']=='Lithuania')) & ((countries['category']==4) | (countries['category']==12) | (countries['category']==21)) & ((countries['year'] > 2004) & (countries['year'] < 2011)) & (countries['quantity'] >= 0)]\n",
    "filtered_countries.groupby('country')['quantity'].sum()"
   ]
  },
  {
   "cell_type": "markdown",
   "metadata": {},
   "source": [
    "**Задание 3**\n",
    "Выберите страницу любого сайта с табличными данными. Импортируйте таблицы в pandas dataframe.\n",
    "Примеры страниц (необязательно брать именно эти): \n",
    "https://fortrader.org/quotes\n",
    "https://www.finanz.ru/valyuty/v-realnom-vremeni\n"
   ]
  },
  {
   "cell_type": "code",
   "execution_count": 137,
   "metadata": {},
   "outputs": [],
   "source": [
    "quotes= pd.read_html('https://www.finanz.ru/valyuty/v-realnom-vremeni', encoding='utf-8')"
   ]
  },
  {
   "cell_type": "code",
   "execution_count": 138,
   "metadata": {},
   "outputs": [
    {
     "data": {
      "text/plain": [
       "[     0            1      2        3       4     5        6      7      8   \\\n",
       " 0  ММВБ        2 761  -1,1%   Nasdaq  10 017  1,1%  Биткойн  9 249   0,0%   \n",
       " 1   РТС   1 257,1800  -1,9%   S&P500   3 084  1,1%    Нефть     42   0,4%   \n",
       " 2   Dow  25 745,6000   1,2%  FTSE100   6 147  0,4%   Золото  1 761  -0,1%   \n",
       " \n",
       "         9      10    11  \n",
       " 0  USD/RUB    691  0,0%  \n",
       " 1  EUR/RUB     77  0,0%  \n",
       " 2  EUR/USD  11222  0,0%  ,\n",
       "     Unnamed: 0              Рубль  Предложение  Спрос  Предыдущее закрытие  \\\n",
       " 0          NaN            GBP/RUB       860053      -               858017   \n",
       " 1          NaN            EUR/RUB       780220      -               774940   \n",
       " 2          NaN            USD/RUB       695733      -               690745   \n",
       " 3          NaN            JPY/RUB        06495      -                06444   \n",
       " 4          NaN            CNY/RUB        98280      -                97593   \n",
       " 5          NaN            CHF/RUB       733966      -               728363   \n",
       " 6          NaN               Евро  Предложение  Спрос  Предыдущее закрытие   \n",
       " 7          NaN            EUR/USD        11211      -                11217   \n",
       " 8          NaN            EUR/GBP        09070      -                09032   \n",
       " 9          NaN            EUR/JPY      1201700      -              1202500   \n",
       " 10         NaN            EUR/CHF        10629      -                10644   \n",
       " 11         NaN         Доллар США  Предложение  Спрос  Предыдущее закрытие   \n",
       " 12         NaN            USD/EUR        08916      -                08914   \n",
       " 13         NaN            USD/GBP        08090      -                08051   \n",
       " 14         NaN            USD/JPY      1071740      -              1071820   \n",
       " 15         NaN            USD/CHF        09483      -                09487   \n",
       " 16         NaN      Японская иена  Предложение  Спрос  Предыдущее закрытие   \n",
       " 17         NaN    JPY/EUR (100:1)        08300      -                08300   \n",
       " 18         NaN            JPY/GBP        00076      -                00075   \n",
       " 19         NaN            JPY/USD        00093      -                00093   \n",
       " 20         NaN    JPY/CHF (100:1)        08800      -                08900   \n",
       " 21         NaN    Фунт стерлингов  Предложение  Спрос  Предыдущее закрытие   \n",
       " 22         NaN            GBP/USD        12360      -                12421   \n",
       " 23         NaN            GBP/JPY      1324102      -              1331531   \n",
       " 24         NaN            GBP/EUR        11025      -                11071   \n",
       " 25         NaN            GBP/CHF        11719      -                11781   \n",
       " 26         NaN  Швейцарский франк  Предложение  Спрос  Предыдущее закрытие   \n",
       " 27         NaN            GBP/CHF        11719      -                11781   \n",
       " 28         NaN            EUR/CHF        10629      -                10644   \n",
       " 29         NaN    JPY/CHF (100:1)        08800      -                08900   \n",
       " 30         NaN            USD/CHF        09483      -                09487   \n",
       " 31         NaN  Украинская гривна  Предложение  Спрос  Предыдущее закрытие   \n",
       " 32         NaN            EUR/UAH       299482      -               299815   \n",
       " 33         NaN            USD/UAH       267025      -               267250   \n",
       " 34         NaN            CHF/UAH       281731      -               281791   \n",
       " 35         NaN            GBP/UAH       330043      -               331951   \n",
       " \n",
       "           %  Абсолютное значение     Время  \n",
       " 0    0,24 %                02037  16:43:00  \n",
       " 1    0,68 %                05280  16:50:00  \n",
       " 2    0,72 %                04988  16:50:00  \n",
       " 3    0,80 %                00052  16:43:00  \n",
       " 4    0,70 %                00687  16:42:00  \n",
       " 5    0,77 %                05603  16:43:00  \n",
       " 6         %  Абсолютное значение     Время  \n",
       " 7   -0,05 %               -00006  16:50:00  \n",
       " 8    0,42 %                00038  16:50:00  \n",
       " 9   -0,07 %               -00800  16:50:00  \n",
       " 10  -0,14 %               -00015  16:50:00  \n",
       " 11        %  Абсолютное значение     Время  \n",
       " 12   0,03 %                00002  16:43:00  \n",
       " 13   0,49 %                00039  16:43:00  \n",
       " 14  -0,01 %               -00080  16:50:00  \n",
       " 15  -0,04 %               -00004  16:50:00  \n",
       " 16        %  Абсолютное значение     Время  \n",
       " 17   0,07 %                00000  16:50:00  \n",
       " 18   0,56 %                00000  16:43:00  \n",
       " 19   0,07 %                00000  16:43:00  \n",
       " 20  -0,03 %                00000  16:50:00  \n",
       " 21        %  Абсолютное значение     Время  \n",
       " 22  -0,49 %               -00061  16:50:00  \n",
       " 23  -0,56 %               -07429  16:43:00  \n",
       " 24  -0,42 %               -00046  16:50:00  \n",
       " 25  -0,53 %               -00062  16:50:00  \n",
       " 26        %  Абсолютное значение     Время  \n",
       " 27  -0,53 %               -00062  16:50:00  \n",
       " 28  -0,14 %               -00015  16:50:00  \n",
       " 29  -0,03 %                00000  16:50:00  \n",
       " 30  -0,04 %               -00004  16:50:00  \n",
       " 31        %  Абсолютное значение     Время  \n",
       " 32  -0,11 %               -00333  16:43:00  \n",
       " 33  -0,08 %               -00225  16:49:00  \n",
       " 34  -0,02 %               -00059  16:43:00  \n",
       " 35  -0,57 %               -01908  16:43:00  ,\n",
       "                                                    0  \\\n",
       " 0                                      Имя и фамилия   \n",
       " 1                                            Телефон   \n",
       " 2                                                NaN   \n",
       " 3  Я даю согласие на обработку своих персональных...   \n",
       " \n",
       "                                                    1  \\\n",
       " 0                                              Город   \n",
       " 1                                              Email   \n",
       " 2                                                NaN   \n",
       " 3  Я даю согласие на обработку своих персональных...   \n",
       " \n",
       "                                                    2  \\\n",
       " 0                                                NaN   \n",
       " 1                                                NaN   \n",
       " 2  Спасибо! Ваша заявка отправлена Финансовый кон...   \n",
       " 3                                                NaN   \n",
       " \n",
       "                                                    3  \\\n",
       " 0                                                NaN   \n",
       " 1                                                NaN   \n",
       " 2  Спасибо! Ваша заявка отправлена Финансовый кон...   \n",
       " 3                                                NaN   \n",
       " \n",
       "                                                    4  \\\n",
       " 0                                                NaN   \n",
       " 1                                                NaN   \n",
       " 2  ошибка: не удалось создать заявку в журнале за...   \n",
       " 3                                                NaN   \n",
       " \n",
       "                                                    5                       6  \\\n",
       " 0                                                NaN                     NaN   \n",
       " 1                                                NaN                     NaN   \n",
       " 2  ошибка: не удалось создать заявку в журнале за...  ошибка: не POST-запрос   \n",
       " 3                                                NaN                     NaN   \n",
       " \n",
       "                         7                                                  8  \\\n",
       " 0                     NaN                                                NaN   \n",
       " 1                     NaN                                                NaN   \n",
       " 2  ошибка: не POST-запрос  Просим Вас согласиться на передачу и обработку...   \n",
       " 3                     NaN                                                NaN   \n",
       " \n",
       "                                                    9  \n",
       " 0                                                NaN  \n",
       " 1                                                NaN  \n",
       " 2  Просим Вас согласиться на передачу и обработку...  \n",
       " 3                                                NaN  ]"
      ]
     },
     "execution_count": 138,
     "metadata": {},
     "output_type": "execute_result"
    }
   ],
   "source": [
    "quotes"
   ]
  }
 ],
 "metadata": {
  "kernelspec": {
   "display_name": "Python 3",
   "language": "python",
   "name": "python3"
  },
  "language_info": {
   "codemirror_mode": {
    "name": "ipython",
    "version": 3
   },
   "file_extension": ".py",
   "mimetype": "text/x-python",
   "name": "python",
   "nbconvert_exporter": "python",
   "pygments_lexer": "ipython3",
   "version": "3.7.6"
  }
 },
 "nbformat": 4,
 "nbformat_minor": 4
}
