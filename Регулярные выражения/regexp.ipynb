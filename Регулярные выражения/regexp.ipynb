{
 "cells": [
  {
   "cell_type": "code",
   "execution_count": 3,
   "metadata": {},
   "outputs": [],
   "source": [
    "import re"
   ]
  },
  {
   "cell_type": "markdown",
   "metadata": {},
   "source": [
    "**Задание 1.**\n",
    " Напишите функцию, которая принимает на вход строку и проверяет является ли она валидным транспортным номером. Если да, то функция должна возвращать отдельно номер и регион.\n"
   ]
  },
  {
   "cell_type": "markdown",
   "metadata": {},
   "source": [
    "**Решение 1**"
   ]
  },
  {
   "cell_type": "code",
   "execution_count": 2,
   "metadata": {},
   "outputs": [],
   "source": [
    "def validation(auto_number):\n",
    "    validation_auto_number = r'[АВЕКМНОРСТУХ]{1}\\d{3}[АВЕКМНОРСТУХ]{2}\\d{2}'\n",
    "    if re.findall(validation_auto_number, auto_number.upper()):\n",
    "        number = re.findall(r'\\w{1}\\d{3}\\w{2}', auto_number.upper())\n",
    "        region_number = re.findall(r'\\w{2}$', auto_number.upper())\n",
    "        return_list = number + region_number\n",
    "        return list(return_list)\n",
    "    else:\n",
    "        print('Некоректно введен номер')"
   ]
  },
  {
   "cell_type": "code",
   "execution_count": 3,
   "metadata": {},
   "outputs": [
    {
     "data": {
      "text/plain": [
       "['С450МК', '78']"
      ]
     },
     "execution_count": 3,
     "metadata": {},
     "output_type": "execute_result"
    }
   ],
   "source": [
    "validation('с450МК78')"
   ]
  },
  {
   "cell_type": "markdown",
   "metadata": {},
   "source": [
    "**Решение 2**"
   ]
  },
  {
   "cell_type": "code",
   "execution_count": 4,
   "metadata": {},
   "outputs": [],
   "source": [
    "def validation_2(auto_number):\n",
    "    validation_auto_number = r'([АВЕКМНОРСТУХ]{1})(\\d{3})([АВЕКМНОРСТУХ]{2})(\\d{2})'\n",
    "    if re.findall(validation_auto_number, auto_number.upper()):\n",
    "        validation_result = re.search(validation_auto_number, auto_number.upper())\n",
    "        number = 'Номер: ' + validation_result.group(1) + validation_result.group(2) + validation_result.group(3)\n",
    "        region_number = 'Код региона: ' + validation_result.group(4)\n",
    "        return number, region_number\n",
    "    else:\n",
    "        print('Некоректно введен номер')"
   ]
  },
  {
   "cell_type": "code",
   "execution_count": 5,
   "metadata": {},
   "outputs": [
    {
     "data": {
      "text/plain": [
       "('Номер: Х999ХХ', 'Код региона: 25')"
      ]
     },
     "execution_count": 5,
     "metadata": {},
     "output_type": "execute_result"
    }
   ],
   "source": [
    "validation_2('х999хх25')"
   ]
  },
  {
   "cell_type": "markdown",
   "metadata": {},
   "source": [
    " **Задание 2**\n",
    " Постарайтесь написать (в крайнем случае найти) самый полный шаблон для проверки e-mail адресов через регулярное выражение, которая проверяет e-mail адрес на валидность. Можно руководствоваться следующими минимальными требованиями:\n",
    "- **адрес должен содержать специальный символ \"@\", который отделяет имя пользователя почтовой системы от доменного имени;**\n",
    "- **адрес не должен содержать следующие символы: \"пробел\", \",\", \":\", \";\", \"!\", \"#\", \"%\", \"*\", \"(\", \")\", \"=\", \"+\", \"{\", \"}\", \" \" \", \" ' \", \" / \", \" \\ \" и \"|\";**\n",
    "- **адрес должен состоять только из латинских символов;**\n",
    "- **после символа \"@\" должна быть как минимум одна \".\";**\n",
    "- **после последней точки должно быть не менее 2-х и не более 4-х символов, причем наличие цифр не допускается;**\n",
    "- **между последней точкой и символом \"@\" должно быть не менее 2-х символов**\n",
    "- **слева от \"@\" должно быть не менее 4-x символов**\n"
   ]
  },
  {
   "cell_type": "markdown",
   "metadata": {},
   "source": [
    "**Решение**"
   ]
  },
  {
   "cell_type": "code",
   "execution_count": 6,
   "metadata": {},
   "outputs": [],
   "source": [
    "def validation_email(enter_email):\n",
    "    validation_email = r'^([-_.a-zA-z0-9]{4,})+@([a-zA-Z]{2,})\\.([a-z]{2,4}$)'\n",
    "    if re.findall(validation_email, enter_email):\n",
    "        print('Accepted')\n",
    "    else:\n",
    "        print('Error')"
   ]
  },
  {
   "cell_type": "code",
   "execution_count": 7,
   "metadata": {},
   "outputs": [
    {
     "name": "stdout",
     "output_type": "stream",
     "text": [
      "Accepted\n"
     ]
    }
   ],
   "source": [
    "validation_email('vaan-777@mail.ru')"
   ]
  },
  {
   "cell_type": "code",
   "execution_count": 8,
   "metadata": {},
   "outputs": [
    {
     "name": "stdout",
     "output_type": "stream",
     "text": [
      "Error\n"
     ]
    }
   ],
   "source": [
    "#Содержит русскую букву\n",
    "validation_email('вaan-777@mail.ru')"
   ]
  },
  {
   "cell_type": "code",
   "execution_count": 9,
   "metadata": {},
   "outputs": [
    {
     "name": "stdout",
     "output_type": "stream",
     "text": [
      "Error\n"
     ]
    }
   ],
   "source": [
    "#Отсутствует @\n",
    "validation_email('vaan-7772mail.ru')"
   ]
  },
  {
   "cell_type": "code",
   "execution_count": 10,
   "metadata": {},
   "outputs": [
    {
     "name": "stdout",
     "output_type": "stream",
     "text": [
      "Error\n"
     ]
    }
   ],
   "source": [
    "#Содержит недомпустимый символ\n",
    "validation_email('vaan%777@mail.ru')"
   ]
  },
  {
   "cell_type": "code",
   "execution_count": 11,
   "metadata": {},
   "outputs": [
    {
     "name": "stdout",
     "output_type": "stream",
     "text": [
      "Error\n"
     ]
    }
   ],
   "source": [
    "#Вместо точки стоит \",\"\n",
    "validation_email('vaan-777@mail,ru')"
   ]
  },
  {
   "cell_type": "code",
   "execution_count": 12,
   "metadata": {},
   "outputs": [
    {
     "name": "stdout",
     "output_type": "stream",
     "text": [
      "Error\n"
     ]
    }
   ],
   "source": [
    "#После точки больше 4-х символов\n",
    "validation_email('vaan-777@mail.rururu')"
   ]
  },
  {
   "cell_type": "code",
   "execution_count": 13,
   "metadata": {},
   "outputs": [
    {
     "name": "stdout",
     "output_type": "stream",
     "text": [
      "Error\n"
     ]
    }
   ],
   "source": [
    "#После точки меньше 2-х символов\n",
    "validation_email('vaan-777@mail.r')"
   ]
  },
  {
   "cell_type": "code",
   "execution_count": 14,
   "metadata": {},
   "outputs": [
    {
     "name": "stdout",
     "output_type": "stream",
     "text": [
      "Error\n"
     ]
    }
   ],
   "source": [
    "#Между последней точки и @ меньше 2-х символов\n",
    "validation_email('vaan-777@m.ru')"
   ]
  },
  {
   "cell_type": "code",
   "execution_count": 15,
   "metadata": {},
   "outputs": [
    {
     "name": "stdout",
     "output_type": "stream",
     "text": [
      "Error\n"
     ]
    }
   ],
   "source": [
    "#Слева от @ менее 4-х символов\n",
    "validation_email('vaa@mail.ru')"
   ]
  },
  {
   "cell_type": "markdown",
   "metadata": {},
   "source": [
    "**Задание 3**\n",
    "Напишите функцию, которая будет удалять все последовательные повторы слов из заданной строки при помощи регулярных выражений.\n"
   ]
  },
  {
   "cell_type": "code",
   "execution_count": 15,
   "metadata": {},
   "outputs": [],
   "source": [
    "def delete_duplication(text):\n",
    "    duplication = r'(?i:(\\b\\w+)(\\s+\\1)+)'\n",
    "    return re.sub(duplication, r'\\1', text)"
   ]
  },
  {
   "cell_type": "code",
   "execution_count": 16,
   "metadata": {},
   "outputs": [
    {
     "data": {
      "text/plain": [
       "'Шла Саша по шоссе и сосала сушку.'"
      ]
     },
     "execution_count": 16,
     "metadata": {},
     "output_type": "execute_result"
    }
   ],
   "source": [
    "delete_duplication('Шла    шла Саша Саша по по по по шоссе и и и сосала сосала сушку.')"
   ]
  },
  {
   "cell_type": "markdown",
   "metadata": {},
   "source": [
    "**Задание 4**\n",
    "Напишите функцию, которая будет проверять номер сотового телефона на валидность, если он валиден, то переводить его в формат:\n",
    "+7(xxx)-xxx-xx-xx\n",
    "\n",
    "Постарайтесь предусмотреть как можно больше адекватных форматов изначального ввода номера. Примеры валидных форматов:\n",
    "\n",
    "- +7 955 555-55-55;\n",
    "- 9555555555;\n",
    "* 8(955)555-55-55;\n",
    "- +7 955 555 55 55;\n",
    "- 7(955) 555-55-55;\n",
    "- +7 955+555+55+55.\n"
   ]
  },
  {
   "cell_type": "code",
   "execution_count": 4,
   "metadata": {},
   "outputs": [],
   "source": [
    "def validation_number(number):\n",
    "    validation_tel_number = r'^([8|+7]+)?([(\\s])?([\\d]{3})([)\\s+])?([\\s])?([\\d]{3})([-\\s+])?([\\d]{2})([-\\s+])?([\\d]{2})'\n",
    "    return re.sub(validation_tel_number, r'+7(\\3)-\\6-\\8-\\10', number)"
   ]
  },
  {
   "cell_type": "code",
   "execution_count": 12,
   "metadata": {},
   "outputs": [
    {
     "data": {
      "text/plain": [
       "'+7(914)-322-52-26'"
      ]
     },
     "execution_count": 12,
     "metadata": {},
     "output_type": "execute_result"
    }
   ],
   "source": [
    "validation_number('89143225226')"
   ]
  }
 ],
 "metadata": {
  "kernelspec": {
   "display_name": "Python 3",
   "language": "python",
   "name": "python3"
  },
  "language_info": {
   "codemirror_mode": {
    "name": "ipython",
    "version": 3
   },
   "file_extension": ".py",
   "mimetype": "text/x-python",
   "name": "python",
   "nbconvert_exporter": "python",
   "pygments_lexer": "ipython3",
   "version": "3.7.6"
  }
 },
 "nbformat": 4,
 "nbformat_minor": 4
}
