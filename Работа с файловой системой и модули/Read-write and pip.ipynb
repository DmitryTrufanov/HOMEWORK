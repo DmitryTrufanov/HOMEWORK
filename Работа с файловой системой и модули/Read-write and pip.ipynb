{
 "cells": [
  {
   "cell_type": "markdown",
   "metadata": {},
   "source": [
    "### Задача с собеседований\n",
    "\n",
    "Дана строчка sequence с последовательностью натуральных чисел, разделенных пробелом. Посчитайте:\n",
    "1. Количество четных и нечетных чисел в этой строке\n",
    "2. Если четных больше, то укажите номер позиции первого \"лишнего\" нечетного числа\n",
    "3. Если нечетных больше, то укажите позицию первого \"лишнего\" четного числа\n",
    "4. Как бонусный вариант оформите код в виде функции"
   ]
  },
  {
   "cell_type": "markdown",
   "metadata": {},
   "source": [
    "**Решение**"
   ]
  },
  {
   "cell_type": "code",
   "execution_count": 2,
   "metadata": {},
   "outputs": [],
   "source": [
    "sequence = '2 4 6 8 10 12 3 1 5 9 22 3 5 17 44'"
   ]
  },
  {
   "cell_type": "code",
   "execution_count": 3,
   "metadata": {},
   "outputs": [],
   "source": [
    "x = sequence.split()"
   ]
  },
  {
   "cell_type": "code",
   "execution_count": 4,
   "metadata": {},
   "outputs": [],
   "source": [
    "def numbers():\n",
    "    even = []\n",
    "    odd = []\n",
    "    for i in x:\n",
    "        if int(i) % 2 == 0:\n",
    "            even.append(i)\n",
    "        elif int(i) % 2 != 0:\n",
    "            odd.append(i)\n",
    "    print(f'Четных чисел {len(even)}')\n",
    "    print(f'Нечетных чисел {len(odd)}')\n",
    "    if len(even) > len(odd):\n",
    "        print(f'Первое лишнее нечетное число {odd[0]}')\n",
    "    elif len(even) < len(odd):\n",
    "        print(f'Первое лишнее четное число {even[0]}')\n",
    "    else:\n",
    "        print(f'Колличество четных чисел равно нечетным')\n",
    "    return"
   ]
  },
  {
   "cell_type": "code",
   "execution_count": 5,
   "metadata": {},
   "outputs": [
    {
     "name": "stdout",
     "output_type": "stream",
     "text": [
      "Четных чисел 8\n",
      "Нечетных чисел 7\n",
      "Первое лишнее нечетное число 3\n"
     ]
    }
   ],
   "source": [
    "numbers()"
   ]
  },
  {
   "cell_type": "markdown",
   "metadata": {},
   "source": [
    "### Упражнение\n",
    "Напишите функцию (или просто код), который возвращает список из первых N строк файла purchase_log.txt без записи всего содержимого файла в оперативную память."
   ]
  },
  {
   "cell_type": "code",
   "execution_count": 6,
   "metadata": {},
   "outputs": [],
   "source": [
    "f = open('purchase_log.txt', 'r', encoding = 'UTF-8')"
   ]
  },
  {
   "cell_type": "code",
   "execution_count": 7,
   "metadata": {},
   "outputs": [
    {
     "data": {
      "text/plain": [
       "'{\"user_id\": \"user_id\", \"category\": \"category\"}\\n'"
      ]
     },
     "execution_count": 7,
     "metadata": {},
     "output_type": "execute_result"
    }
   ],
   "source": [
    "f.readline()"
   ]
  },
  {
   "cell_type": "code",
   "execution_count": 9,
   "metadata": {},
   "outputs": [],
   "source": [
    "def top(list_):\n",
    "    n = input('Введите количество отображаемых строк:')\n",
    "    list_str = []\n",
    "    for i, y in enumerate(list_, 1):\n",
    "        list_str.append(y.strip())\n",
    "        if i > int(n) - 1:\n",
    "            break\n",
    "    print(list_str)"
   ]
  },
  {
   "cell_type": "code",
   "execution_count": 10,
   "metadata": {},
   "outputs": [
    {
     "name": "stdout",
     "output_type": "stream",
     "text": [
      "Введите количество отображаемых строк:10\n",
      "['{\"user_id\": \"1840e0b9d4\", \"category\": \"Продукты\"}', '{\"user_id\": \"4e4f90fcfb\", \"category\": \"Электроника\"}', '{\"user_id\": \"afea8d72fc\", \"category\": \"Электроника\"}', '{\"user_id\": \"373a6055fe\", \"category\": \"Бытовая техника\"}', '{\"user_id\": \"9b2ab046f3\", \"category\": \"Электроника\"}', '{\"user_id\": \"9f39d307c3\", \"category\": \"Электроника\"}', '{\"user_id\": \"44edeffc91\", \"category\": \"Продукты\"}', '{\"user_id\": \"704474fa2d\", \"category\": \"Продукты\"}', '{\"user_id\": \"1de31be403\", \"category\": \"Бытовая техника\"}', '{\"user_id\": \"b71f36a5e4\", \"category\": \"Продукты\"}']\n"
     ]
    }
   ],
   "source": [
    "top(f)"
   ]
  },
  {
   "cell_type": "markdown",
   "metadata": {},
   "source": [
    "# Домашнее задание\n",
    "1. Переведите содержимое файла purchase_log.txt в словарь purchases вида:\n",
    "```python\n",
    "{'1840e0b9d4': 'Продукты', ...}\n",
    "```\n",
    "\n",
    "2. Для каждого user_id в файле visit_log.csv определите третий столбец с категорией покупки (если покупка была, сам файл visit_log.csv изменять не надо). Запишите в файл funnel.csv визиты из файла visit_log.csv, в которых были покупки с указанием категории.\n",
    "\n",
    "Учтите условия на данные:\n",
    "- содержимое purchase_log.txt помещается в оперативную память компьютера\n",
    "- содержимое visit_log.csv - нет; используйте только построчную обработку этого файла"
   ]
  },
  {
   "cell_type": "markdown",
   "metadata": {},
   "source": [
    "**Решение 1**"
   ]
  },
  {
   "cell_type": "code",
   "execution_count": 14,
   "metadata": {},
   "outputs": [],
   "source": [
    "import json\n",
    "purchases = {}\n",
    "with open('purchase_log.txt', 'r', encoding='utf-8') as f:\n",
    "    f.readline()\n",
    "    for line in f:\n",
    "        dict_ = json.loads(line.strip())\n",
    "        purchases.setdefault(dict_['user_id'], dict_['category'])"
   ]
  },
  {
   "cell_type": "markdown",
   "metadata": {},
   "source": [
    "**Решение 2**"
   ]
  },
  {
   "cell_type": "code",
   "execution_count": 3,
   "metadata": {},
   "outputs": [],
   "source": [
    "with open('visit_log.csv', 'r', encoding='utf-8') as f_2:\n",
    "    with open('funnel.csv', 'w', encoding='utf-8') as f_3:\n",
    "        for info in f_2:\n",
    "            info_list = list(info.split(','))\n",
    "            if info_list[0] in purchases.keys():\n",
    "                f_3.write(info.strip() + ','+ purchases.get(info_list[0]) + '\\n')"
   ]
  }
 ],
 "metadata": {
  "kernelspec": {
   "display_name": "Python 3",
   "language": "python",
   "name": "python3"
  },
  "language_info": {
   "codemirror_mode": {
    "name": "ipython",
    "version": 3
   },
   "file_extension": ".py",
   "mimetype": "text/x-python",
   "name": "python",
   "nbconvert_exporter": "python",
   "pygments_lexer": "ipython3",
   "version": "3.7.6"
  }
 },
 "nbformat": 4,
 "nbformat_minor": 2
}
