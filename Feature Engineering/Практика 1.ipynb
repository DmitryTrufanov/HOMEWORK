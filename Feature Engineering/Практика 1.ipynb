{
 "cells": [
  {
   "cell_type": "code",
   "execution_count": 19,
   "metadata": {},
   "outputs": [],
   "source": [
    "import numpy as np\n",
    "import pandas as pd\n",
    "\n",
    "from sklearn.linear_model import LinearRegression"
   ]
  },
  {
   "cell_type": "code",
   "execution_count": 27,
   "metadata": {},
   "outputs": [
    {
     "data": {
      "text/html": [
       "<div>\n",
       "<style scoped>\n",
       "    .dataframe tbody tr th:only-of-type {\n",
       "        vertical-align: middle;\n",
       "    }\n",
       "\n",
       "    .dataframe tbody tr th {\n",
       "        vertical-align: top;\n",
       "    }\n",
       "\n",
       "    .dataframe thead th {\n",
       "        text-align: right;\n",
       "    }\n",
       "</style>\n",
       "<table border=\"1\" class=\"dataframe\">\n",
       "  <thead>\n",
       "    <tr style=\"text-align: right;\">\n",
       "      <th></th>\n",
       "      <th>drivers_age</th>\n",
       "      <th>release_year</th>\n",
       "      <th>expense_on_100</th>\n",
       "      <th>expense</th>\n",
       "      <th>distance</th>\n",
       "    </tr>\n",
       "  </thead>\n",
       "  <tbody>\n",
       "    <tr>\n",
       "      <th>0</th>\n",
       "      <td>31</td>\n",
       "      <td>1045</td>\n",
       "      <td>5</td>\n",
       "      <td>24</td>\n",
       "      <td>480.000000</td>\n",
       "    </tr>\n",
       "    <tr>\n",
       "      <th>1</th>\n",
       "      <td>74</td>\n",
       "      <td>562</td>\n",
       "      <td>9</td>\n",
       "      <td>15</td>\n",
       "      <td>166.666667</td>\n",
       "    </tr>\n",
       "    <tr>\n",
       "      <th>2</th>\n",
       "      <td>54</td>\n",
       "      <td>1239</td>\n",
       "      <td>7</td>\n",
       "      <td>89</td>\n",
       "      <td>1271.428571</td>\n",
       "    </tr>\n",
       "    <tr>\n",
       "      <th>3</th>\n",
       "      <td>47</td>\n",
       "      <td>1221</td>\n",
       "      <td>5</td>\n",
       "      <td>25</td>\n",
       "      <td>500.000000</td>\n",
       "    </tr>\n",
       "    <tr>\n",
       "      <th>4</th>\n",
       "      <td>48</td>\n",
       "      <td>1798</td>\n",
       "      <td>6</td>\n",
       "      <td>50</td>\n",
       "      <td>833.333333</td>\n",
       "    </tr>\n",
       "    <tr>\n",
       "      <th>5</th>\n",
       "      <td>57</td>\n",
       "      <td>1706</td>\n",
       "      <td>5</td>\n",
       "      <td>98</td>\n",
       "      <td>1960.000000</td>\n",
       "    </tr>\n",
       "    <tr>\n",
       "      <th>6</th>\n",
       "      <td>75</td>\n",
       "      <td>871</td>\n",
       "      <td>5</td>\n",
       "      <td>86</td>\n",
       "      <td>1720.000000</td>\n",
       "    </tr>\n",
       "    <tr>\n",
       "      <th>7</th>\n",
       "      <td>63</td>\n",
       "      <td>28</td>\n",
       "      <td>6</td>\n",
       "      <td>21</td>\n",
       "      <td>350.000000</td>\n",
       "    </tr>\n",
       "    <tr>\n",
       "      <th>8</th>\n",
       "      <td>61</td>\n",
       "      <td>1593</td>\n",
       "      <td>8</td>\n",
       "      <td>33</td>\n",
       "      <td>412.500000</td>\n",
       "    </tr>\n",
       "    <tr>\n",
       "      <th>9</th>\n",
       "      <td>33</td>\n",
       "      <td>493</td>\n",
       "      <td>8</td>\n",
       "      <td>113</td>\n",
       "      <td>1412.500000</td>\n",
       "    </tr>\n",
       "  </tbody>\n",
       "</table>\n",
       "</div>"
      ],
      "text/plain": [
       "   drivers_age  release_year  expense_on_100  expense     distance\n",
       "0           31          1045               5       24   480.000000\n",
       "1           74           562               9       15   166.666667\n",
       "2           54          1239               7       89  1271.428571\n",
       "3           47          1221               5       25   500.000000\n",
       "4           48          1798               6       50   833.333333\n",
       "5           57          1706               5       98  1960.000000\n",
       "6           75           871               5       86  1720.000000\n",
       "7           63            28               6       21   350.000000\n",
       "8           61          1593               8       33   412.500000\n",
       "9           33           493               8      113  1412.500000"
      ]
     },
     "execution_count": 27,
     "metadata": {},
     "output_type": "execute_result"
    }
   ],
   "source": [
    "# Создаём сэмпл\n",
    "n_samples = 500\n",
    "\n",
    "# Будем прогнозировать расход топлива\n",
    "drivers_age = np.random.choice(50, n_samples) + 30\n",
    "release_year = np.random.choice(1990, n_samples)\n",
    "expense = np.random.choice(100, n_samples) + 15\n",
    "expense_on_100 = np.random.choice(5, n_samples) + 5\n",
    "\n",
    "# Пройденное расстояние (расход 10 литров на 100 км)\n",
    "distance = expense / expense_on_100 * 100\n",
    "\n",
    "data = pd.DataFrame({'drivers_age': drivers_age, 'release_year': release_year, 'expense_on_100': expense_on_100, 'expense': expense, 'distance': distance})\n",
    "data.head(10)"
   ]
  },
  {
   "cell_type": "code",
   "execution_count": 28,
   "metadata": {},
   "outputs": [
    {
     "name": "stdout",
     "output_type": "stream",
     "text": [
      "Weights: [ 1.16419078e-01  7.38424072e-03 -1.39935037e+02  1.49782368e+01]\n",
      "Bias: 957.1443307948603\n",
      "Error: 75.35377673926604\n"
     ]
    }
   ],
   "source": [
    "from sklearn.metrics import mean_absolute_error\n",
    "\n",
    "X = data[['drivers_age', 'release_year', 'expense_on_100', 'expense']]\n",
    "y = data['distance']\n",
    "reg = LinearRegression().fit(X, y)\n",
    "print('Weights: {}'.format(reg.coef_))\n",
    "print('Bias: {}'.format(reg.intercept_))\n",
    "\n",
    "pred_values = reg.predict(data[['drivers_age', 'distance', 'expense_on_100', 'expense']])\n",
    "print('Error: {}'.format(mean_absolute_error(pred_values, y)))"
   ]
  },
  {
   "cell_type": "markdown",
   "metadata": {},
   "source": [
    "Убираем год и возрост так как они не влияют на пройденное расстояние."
   ]
  },
  {
   "cell_type": "code",
   "execution_count": 29,
   "metadata": {},
   "outputs": [
    {
     "name": "stdout",
     "output_type": "stream",
     "text": [
      "Weights: [-139.96303661   14.97365476]\n",
      "Bias: 971.2012974133273\n",
      "Error: 75.84222445214101\n"
     ]
    }
   ],
   "source": [
    "X = data[['expense_on_100', 'expense']]\n",
    "y = data['distance']\n",
    "reg = LinearRegression().fit(X, y)\n",
    "print('Weights: {}'.format(reg.coef_))\n",
    "print('Bias: {}'.format(reg.intercept_))\n",
    "\n",
    "pred_values = reg.predict(data[['expense_on_100', 'expense']])\n",
    "print('Error: {}'.format(mean_absolute_error(pred_values, y)))"
   ]
  },
  {
   "cell_type": "markdown",
   "metadata": {},
   "source": [
    "Особо ничего не изменилось."
   ]
  },
  {
   "cell_type": "code",
   "execution_count": 30,
   "metadata": {},
   "outputs": [
    {
     "data": {
      "text/html": [
       "<div>\n",
       "<style scoped>\n",
       "    .dataframe tbody tr th:only-of-type {\n",
       "        vertical-align: middle;\n",
       "    }\n",
       "\n",
       "    .dataframe tbody tr th {\n",
       "        vertical-align: top;\n",
       "    }\n",
       "\n",
       "    .dataframe thead th {\n",
       "        text-align: right;\n",
       "    }\n",
       "</style>\n",
       "<table border=\"1\" class=\"dataframe\">\n",
       "  <thead>\n",
       "    <tr style=\"text-align: right;\">\n",
       "      <th></th>\n",
       "      <th>drivers_age</th>\n",
       "      <th>release_year</th>\n",
       "      <th>expense_on_100</th>\n",
       "      <th>expense</th>\n",
       "      <th>distance</th>\n",
       "      <th>coef</th>\n",
       "    </tr>\n",
       "  </thead>\n",
       "  <tbody>\n",
       "    <tr>\n",
       "      <th>0</th>\n",
       "      <td>31</td>\n",
       "      <td>1045</td>\n",
       "      <td>5</td>\n",
       "      <td>24</td>\n",
       "      <td>480.000000</td>\n",
       "      <td>4.800000</td>\n",
       "    </tr>\n",
       "    <tr>\n",
       "      <th>1</th>\n",
       "      <td>74</td>\n",
       "      <td>562</td>\n",
       "      <td>9</td>\n",
       "      <td>15</td>\n",
       "      <td>166.666667</td>\n",
       "      <td>1.666667</td>\n",
       "    </tr>\n",
       "    <tr>\n",
       "      <th>2</th>\n",
       "      <td>54</td>\n",
       "      <td>1239</td>\n",
       "      <td>7</td>\n",
       "      <td>89</td>\n",
       "      <td>1271.428571</td>\n",
       "      <td>12.714286</td>\n",
       "    </tr>\n",
       "    <tr>\n",
       "      <th>3</th>\n",
       "      <td>47</td>\n",
       "      <td>1221</td>\n",
       "      <td>5</td>\n",
       "      <td>25</td>\n",
       "      <td>500.000000</td>\n",
       "      <td>5.000000</td>\n",
       "    </tr>\n",
       "    <tr>\n",
       "      <th>4</th>\n",
       "      <td>48</td>\n",
       "      <td>1798</td>\n",
       "      <td>6</td>\n",
       "      <td>50</td>\n",
       "      <td>833.333333</td>\n",
       "      <td>8.333333</td>\n",
       "    </tr>\n",
       "  </tbody>\n",
       "</table>\n",
       "</div>"
      ],
      "text/plain": [
       "   drivers_age  release_year  expense_on_100  expense     distance       coef\n",
       "0           31          1045               5       24   480.000000   4.800000\n",
       "1           74           562               9       15   166.666667   1.666667\n",
       "2           54          1239               7       89  1271.428571  12.714286\n",
       "3           47          1221               5       25   500.000000   5.000000\n",
       "4           48          1798               6       50   833.333333   8.333333"
      ]
     },
     "execution_count": 30,
     "metadata": {},
     "output_type": "execute_result"
    }
   ],
   "source": [
    "# Создаем новый признак (коэффициент расхода топлива)\n",
    "data['coef'] = data['expense'] / data['expense_on_100']\n",
    "data.head(5)"
   ]
  },
  {
   "cell_type": "code",
   "execution_count": 31,
   "metadata": {},
   "outputs": [
    {
     "name": "stdout",
     "output_type": "stream",
     "text": [
      "Weights: [100.]\n",
      "Bias: 6.821210263296962e-13\n",
      "Error: 2.546016730775591e-13\n"
     ]
    }
   ],
   "source": [
    "X = data[['coef']]\n",
    "y = data['distance']\n",
    "reg = LinearRegression().fit(X, y)\n",
    "print('Weights: {}'.format(reg.coef_))\n",
    "print('Bias: {}'.format(reg.intercept_))\n",
    "\n",
    "pred_values = reg.predict(data[['coef']])\n",
    "print('Error: {}'.format(mean_absolute_error(pred_values, y)))"
   ]
  },
  {
   "cell_type": "markdown",
   "metadata": {},
   "source": [
    "Наша модель почти со 100% точностью предсказывает пройденное расстояние."
   ]
  }
 ],
 "metadata": {
  "kernelspec": {
   "display_name": "Python 3",
   "language": "python",
   "name": "python3"
  },
  "language_info": {
   "codemirror_mode": {
    "name": "ipython",
    "version": 3
   },
   "file_extension": ".py",
   "mimetype": "text/x-python",
   "name": "python",
   "nbconvert_exporter": "python",
   "pygments_lexer": "ipython3",
   "version": "3.8.3"
  }
 },
 "nbformat": 4,
 "nbformat_minor": 2
}
