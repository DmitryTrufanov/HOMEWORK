{
 "cells": [
  {
   "cell_type": "markdown",
   "metadata": {},
   "source": [
    "**Задание 1**. Даны 2 строки: *long_phrase* и *short_phrase*. \n",
    "Напишите код, который проверяет действительно ли длинная фраза *long_phrase* длиннее короткой *short_phrase*. И выводит *True* или *False* в зависимости от результата сравнения."
   ]
  },
  {
   "cell_type": "markdown",
   "metadata": {},
   "source": [
    "**Решение**"
   ]
  },
  {
   "cell_type": "code",
   "execution_count": 39,
   "metadata": {},
   "outputs": [
    {
     "name": "stdout",
     "output_type": "stream",
     "text": [
      "True\n"
     ]
    }
   ],
   "source": [
    "long_phrase = 'Насколько проще было бы писать программы, если бы не заказчики'\n",
    "short_phrase = '640Кб должно хватить для любых задач. Билл Гейтс (по легенде)'\n",
    "print(len(long_phrase) > len(short_phrase))"
   ]
  },
  {
   "cell_type": "markdown",
   "metadata": {},
   "source": [
    "**Задание 2**. Дано значение объема файла в байтах (*в мегабайте 2^20 байт*). Напишите перевод этого значения в мегабайты в формате: \"*Объем файла равен 213.68Mb*\"."
   ]
  },
  {
   "cell_type": "markdown",
   "metadata": {},
   "source": [
    "**Решение**"
   ]
  },
  {
   "cell_type": "code",
   "execution_count": 12,
   "metadata": {},
   "outputs": [
    {
     "name": "stdout",
     "output_type": "stream",
     "text": [
      "Введите заначение 222222\n",
      "Объем файла равен  217.01 Mb\n"
     ]
    }
   ],
   "source": [
    "byte = int(input('Введите заначение '))\n",
    "print('Объем файла равен ', round(byte / 1024,2),'Mb')"
   ]
  },
  {
   "cell_type": "markdown",
   "metadata": {},
   "source": [
    "**Задание 3**. Разработать приложение для определения знака зодиака по дате рождения. Пример:\n",
    "\n",
    "Введите месяц: март\n",
    "\n",
    "Введите число: 6\n",
    "\n",
    "Вывод:\n",
    "Рыбы"
   ]
  },
  {
   "cell_type": "markdown",
   "metadata": {},
   "source": [
    "**Решение**"
   ]
  },
  {
   "cell_type": "code",
   "execution_count": 32,
   "metadata": {},
   "outputs": [
    {
     "name": "stdout",
     "output_type": "stream",
     "text": [
      "Введите месяц рождения: Апрель\n",
      "Введите день рождения: 23\n",
      "Вы телец\n"
     ]
    }
   ],
   "source": [
    "month = input('Введите месяц рождения: ')\n",
    "day = int(input('Введите день рождения: '))\n",
    "if (month == 'Январь' and day <= 31 and day >= 21) or (month == 'Февраль' and day <= 18 and day >= 1):\n",
    "    print('Вы водолей')\n",
    "elif (month == 'Февраль' and day >= 19 and day <= 29) or (month == 'Март' and day <= 20 and day >= 1):\n",
    "    print('Вы рыбы')\n",
    "elif (month == 'Март' and day >= 21 and day <= 31) or (month == 'Апрель' and day <= 19 and day >= 1):\n",
    "    print('Вы овен')\n",
    "elif (month == 'Апрель' and day >= 20 and day <= 30) or (month == 'Май' and day <= 20 and day >= 1):\n",
    "    print('Вы телец')\n",
    "elif (month == 'Май' and day >= 21 and day <= 31) or (month == 'Июнь' and day <= 21 and day >= 1):\n",
    "    print('Вы близнецы')\n",
    "elif (month == 'Июнь' and day >= 22 and day <= 30) or (month == 'Июль' and day <= 22 and day >= 1):\n",
    "    print('Вы рак')\n",
    "elif (month == 'Июль' and day >= 23 and day <= 31) or (month == 'Август' and day <= 22 and day >= 1):\n",
    "    print('Вы лев')\n",
    "elif (month == 'Август' and day >= 23 and day <= 31) or (month == 'Сентябрь' and day <= 22 and day >= 1):\n",
    "    print('Вы дева')\n",
    "elif (month == 'Сентябрь' and day >= 23 and day <= 30) or (month == 'Октябрь' and day <= 23 and day >= 1):\n",
    "    print('Вы весы')\n",
    "elif (month == 'Октябрь' and day >= 24 and day <= 31) or (month == 'Ноябрь' and day <= 22 and day >= 1):\n",
    "    print('Вы скорпион')\n",
    "elif (month == 'Ноябрь' and day >= 23 and day <= 30) or (month == 'Декабрь' and day <= 21 and day >= 1):\n",
    "    print('Вы стрелец')\n",
    "elif (month == 'Декабрь' and day >= 22 and day <= 31) or (month == 'Январь' and day <= 20 and day >= 1):\n",
    "    print('Вы козерог')\n",
    "else:\n",
    "    print('Что то пошло не так. Проверьте правильность ввода даты рождения')"
   ]
  },
  {
   "cell_type": "markdown",
   "metadata": {},
   "source": [
    "**Задание 4**. Нужно разработать приложение для финансового планирования.\n",
    "Приложение учитывает сколько уходит на ипотеку, \"на жизнь\" и сколько нужно отложить на пенсию.\n",
    "Пользователь вводит:\n",
    "- заработанную плату в месяц.\n",
    "- сколько процентов от ЗП уходит на ипотеку.\n",
    "- сколько процентов от ЗП уходит \"на жизнь\".\n",
    "- сколько раз приходит премия в год.\n",
    "\n",
    "Остальная часть заработанной платы откладывается на пенсию.\n",
    "\n",
    "Также пользователю приходит премия в размере зарплаты, от которой половина уходит на отпуск, а вторая половина откладывается.\n",
    "\n",
    "Программа должна учитывать сколько премий было в год.\n",
    "\n",
    "Нужно вывести сколько денег тратит пользователь на ипотеку и сколько он накопит за год.\n",
    "\n",
    "Пример:\n",
    "\n",
    "Введите заработанную плату в месяц: 100000\n",
    "\n",
    "Введите сколько процентов уходит на ипотеку: 30\n",
    "\n",
    "Введите сколько процентов уходит на жизнь: 50\n",
    "\n",
    "Введите количество премий за год: 2\n",
    "\n",
    "Вывод:\n",
    "На ипотеку было потрачено: 360000 рублей\n",
    "Было накоплено: 340000 рублей"
   ]
  },
  {
   "cell_type": "markdown",
   "metadata": {},
   "source": [
    "**Решение**"
   ]
  },
  {
   "cell_type": "code",
   "execution_count": 24,
   "metadata": {},
   "outputs": [
    {
     "name": "stdout",
     "output_type": "stream",
     "text": [
      "Введите заработанную плату в месяц: 250000\n",
      "Введите сколько процентов уходит на ипотеку: 30\n",
      "Введите сколько процентов уходит на жизнь: 50\n",
      "Введите количество премий за год: 4\n",
      "На ипотеку за год было потрачено:  900000 рублей Было накоплено за год:  1100000 рублей\n"
     ]
    }
   ],
   "source": [
    "monthly_salary = int(input('Введите заработанную плату в месяц: '))\n",
    "mortgage_percent = int(input('Введите сколько процентов уходит на ипотеку: '))\n",
    "percent_on_life = int(input('Введите сколько процентов уходит на жизнь: '))\n",
    "number_of_premiums_per_year = int(input('Введите количество премий за год: '))\n",
    "if monthly_salary > 0 and mortgage_percent > 0 and percent_on_life > 0:\n",
    "    print('На ипотеку за год было потрачено: ', (monthly_salary * 12 * mortgage_percent) // 100, 'рублей', \n",
    "          'Было накоплено за год: ', ((monthly_salary * 12) - ((monthly_salary * 12) * percent_on_life // 100)) - \n",
    "          ((monthly_salary * 12 * mortgage_percent) // 100) + ((number_of_premiums_per_year * monthly_salary) // 2), \n",
    "          'рублей')                          \n",
    "else:\n",
    "    print('Введите данные')"
   ]
  }
 ],
 "metadata": {
  "kernelspec": {
   "display_name": "Python 3",
   "language": "python",
   "name": "python3"
  }
 },
 "nbformat": 4,
 "nbformat_minor": 2
}
